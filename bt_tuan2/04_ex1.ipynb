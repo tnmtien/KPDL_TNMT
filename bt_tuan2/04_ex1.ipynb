{
 "cells": [
  {
   "cell_type": "markdown",
   "id": "4dd60f13-009c-4708-9e17-cb0d502248fa",
   "metadata": {},
   "source": [
    "# Kỹ thuật lập trình Python\n"
   ]
  },
  {
   "cell_type": "markdown",
   "id": "ff669c7c-a9dd-459b-b713-915397dd9ac0",
   "metadata": {},
   "source": [
    "## Làm quen với Numpy\n"
   ]
  },
  {
   "cell_type": "markdown",
   "id": "d2a776e8-566a-4e4c-9b60-7dd3b9dc7f5c",
   "metadata": {},
   "source": [
    "### Bài 1. Tính toán trên dãy số\n"
   ]
  },
  {
   "cell_type": "markdown",
   "id": "8ebb8a27-7bce-4a86-8964-ec88a8b11758",
   "metadata": {},
   "source": [
    "#### 1. Tạo một dãy số a có N phần tử (N = 10)\n"
   ]
  },
  {
   "cell_type": "code",
   "execution_count": 1,
   "id": "62802c13-3a7f-4370-8bc7-e8daeafd9553",
   "metadata": {
    "tags": []
   },
   "outputs": [
    {
     "name": "stdout",
     "output_type": "stream",
     "text": [
      "1. Tạo một dãy số a có N phần tử (N = 10)\n",
      "Day so a:  [56 41 10 74 82 72 20 76  1 99]\n"
     ]
    }
   ],
   "source": [
    "import numpy as np # Khai báo thư viện numpy\n",
    "\n",
    "print(\"1. Tạo một dãy số a có N phần tử (N = 10)\")\n",
    "N = 10\n",
    "a = np.random.randint(1, 101, N)  # Tạo dãy số ngẫu nhiên từ 1 đến 100, gồm 10 phần tử\n",
    "\n",
    "print(\"Day so a: \", a)"
   ]
  },
  {
   "cell_type": "markdown",
   "id": "1eb817cf-c87c-4b2e-9416-e953580fe8a9",
   "metadata": {},
   "source": [
    "#### 2. Các thao tác trên dãy số a\n",
    "(a) Bình phương các phần tử trong dãy số <br/>\n",
    "(b) Tìm số lượng các phần tử của dãy số <br/>\n",
    "(c) In ra giá trị lớn nhất, giá trị nhỏ nhất và giá trị trung bình <br/>\n",
    "(d) Tính phương sai của dãy số $\\sigma^2 = \\frac{\\sum{\\left(a_i - \\mu\\right)^2}}{N - 1}$ với $\\mu = \\frac{\\sum{a_i}}{N}$ và độ lệch chuẩn $var = \\sqrt{\\sigma^2}$"
   ]
  },
  {
   "cell_type": "code",
   "execution_count": 2,
   "id": "ac53abb5-883f-4d38-9175-5b7c8e471ae7",
   "metadata": {
    "tags": []
   },
   "outputs": [
    {
     "name": "stdout",
     "output_type": "stream",
     "text": [
      "2. Các thao tác tính toán đơn giản với dãy số a\n",
      "a. Binh phuong a:  [3136 1681  100 5476 6724 5184  400 5776    1 9801]\n",
      "\n",
      "b. Do dai a:  10\n",
      "\n",
      "c. Gia tri lon nhat: [99], gia tri nho nhat: [1], gia tri trung binh [53.1]\n",
      "\n",
      "d. Phuong sai: [ 1120.32] va do lech chuan: [ 33.47]\n"
     ]
    }
   ],
   "source": [
    "print(\"2. Các thao tác tính toán đơn giản với dãy số a\")\n",
    "# a. Bình phương các phần tử trong dãy số\n",
    "a2 = a ** 2\n",
    "\n",
    "# b. Tìm số lượng các phần tử của dãy số\n",
    "na = a.size  # hoặc len(a)\n",
    "\n",
    "# c. In ra giá trị lớn nhất, nhỏ nhất, trung bình\n",
    "v_max = np.max(a)\n",
    "v_min = np.min(a)\n",
    "v_avg = np.mean(a)\n",
    "\n",
    "# d. Tính phương sai và độ lệch chuẩn\n",
    "v_sigma2 = np.sum((a - v_avg) ** 2) / (na - 1)\n",
    "v_var = np.sqrt(v_sigma2)\n",
    "\n",
    "print(\"a. Binh phuong a: \", a2)\n",
    "print(\"\\nb. Do dai a: \", na)\n",
    "print(f'\\nc. Gia tri lon nhat: [{v_max}], gia tri nho nhat: [{v_min}], gia tri trung binh [{v_avg}]')\n",
    "print(f'\\nd. Phuong sai: [{v_sigma2: .2f}] va do lech chuan: [{v_var: .2f}]')"
   ]
  },
  {
   "cell_type": "markdown",
   "id": "89708751-3a02-467c-ac8b-c9eab2be1e04",
   "metadata": {},
   "source": [
    "#### 3. Toán tử trên hai dãy số\n",
    "(a) Tạo dãy số x có 10 phần tử từ 1 đến 10 (dùng hàm np.arange) <br/>\n",
    "(b) Liệt kê và đếm số lượng phần tử chẵn và lẻ có trong dãy a và x <br/>\n",
    "(c) Tính khoảng cách giữa các phần tử ở vị trí lẻ của mảng a và x với $s = \\sqrt{\\sum{\\left(a_i - x_i\\right)^2}}$ với $i$ lẻ<br/>\n",
    "(d) Tìm khoảng cách nhỏ nhất giữa tập a và x. Ví dụ: min({1, 3, 5}, {2, 10, 8}} = 1"
   ]
  },
  {
   "cell_type": "code",
   "execution_count": 4,
   "id": "2247b1b7-b172-46d6-8457-9097591721c8",
   "metadata": {
    "tags": []
   },
   "outputs": [
    {
     "name": "stdout",
     "output_type": "stream",
     "text": [
      "3. Xử lý khác trên dãy số\n",
      "a. Day so x: [ 1  2  3  4  5  6  7  8  9 10]\n",
      "b. Cac phan tu chan trong day a, b: \n",
      "+ Day a: [56 41 10 74 82 72 20 76  1 99]\n",
      "  - Loc chan: [ True False  True  True  True  True  True  True False False]\n",
      "  - Day chua phan tu chan trong a: [56 10 74 82 72 20 76], so luong 7 phan tu.\n",
      "  - Day chua phan tu le trong a: [41  1 99], so luong 3 phan tu.\n",
      "+ Day x: [ 1  2  3  4  5  6  7  8  9 10]\n",
      "  - Loc chan: [False  True False  True False  True False  True False  True]\n",
      "  - Day chua phan tu chan trong x: [ 2  4  6  8 10], so luong 5 phan tu.\n",
      "  - Day chua phan tu le trong x: [1 3 5 7 9], so luong 5 phan tu.\n",
      "c.Tính hiệu các phần tử ở vị trí lẻ của mảng a và x: \n",
      "+ Vi tri le trong a va x: [1 3 5 7 9]\n",
      "+ Day so a: [56 41 10 74 82 72 20 76  1 99] va cac so o vi tri le: [41 74 72 76 99]\n",
      "+ Day so x: [ 1  2  3  4  5  6  7  8  9 10] va cac so o vi tri le: [ 2  4  6  8 10]\n",
      "+ Hieu cua a va x o vi tri le: [39 70 66 68 89]\n",
      "+ Khoang cach cac phan tu cua a va x o vi tri le:  152.72\n",
      "+ Day a: [56 41 10 74 82 72 20 76  1 99]\n",
      "+ Day x: [ 1  2  3  4  5  6  7  8  9 10]\n",
      "+ Khoang cach nho nhat: 0\n"
     ]
    }
   ],
   "source": [
    "print(\"3. Xử lý khác trên dãy số\")\n",
    "\n",
    "# a. Tạo dãy số x có 10 phần tử từ 1 đến 10\n",
    "x = np.arange(1, 11)\n",
    "print(f'a. Day so x: {x}')\n",
    "\n",
    "# b. Liệt kê và đếm số lượng phần tử chẵn và lẻ trong dãy a và x\n",
    "a_la_chan = a % 2 == 0\n",
    "a_chan = a[a_la_chan]\n",
    "n_a_chan = a_chan.size\n",
    "a_la_le = a % 2 != 0\n",
    "a_le = a[a_la_le]\n",
    "n_a_le = a_le.size\n",
    "\n",
    "x_la_chan = x % 2 == 0\n",
    "x_chan = x[x_la_chan]\n",
    "n_x_chan = x_chan.size\n",
    "x_la_le = x % 2 != 0\n",
    "x_le = x[x_la_le]\n",
    "n_x_le = x_le.size\n",
    "\n",
    "print(\"b. Cac phan tu chan trong day a, b: \")\n",
    "print(f\"+ Day a: {a}\")\n",
    "print(f\"  - Loc chan: {a_la_chan}\")\n",
    "print(f\"  - Day chua phan tu chan trong a: {a_chan}, so luong {n_a_chan} phan tu.\")\n",
    "print(f\"  - Day chua phan tu le trong a: {a_le}, so luong {n_a_le} phan tu.\")\n",
    "print(f\"+ Day x: {x}\")\n",
    "print(f\"  - Loc chan: {x_la_chan}\")\n",
    "print(f\"  - Day chua phan tu chan trong x: {x_chan}, so luong {n_x_chan} phan tu.\")\n",
    "print(f\"  - Day chua phan tu le trong x: {x_le}, so luong {n_x_le} phan tu.\")\n",
    "\n",
    "# c. Tính khoảng cách giữa các phần tử ở vị trí lẻ của mảng a và x với s = sqrt(sum((a_i - x_i)^2)), i lẻ\n",
    "v_le = np.arange(1, a.size, 2)  # các vị trí lẻ (bắt đầu từ 1)\n",
    "a_le = a[v_le]\n",
    "x_le = x[v_le]\n",
    "hieu_le = a_le - x_le\n",
    "kc_le = np.sqrt(np.sum(hieu_le ** 2))\n",
    "\n",
    "print(\"c.Tính hiệu các phần tử ở vị trí lẻ của mảng a và x: \")\n",
    "print(f\"+ Vi tri le trong a va x: {v_le}\")\n",
    "print(f\"+ Day so a: {a} va cac so o vi tri le: {a_le}\")\n",
    "print(f\"+ Day so x: {x} va cac so o vi tri le: {x_le}\")\n",
    "print(f\"+ Hieu cua a va x o vi tri le: {hieu_le}\")\n",
    "print(f\"+ Khoang cach cac phan tu cua a va x o vi tri le: {kc_le: .2f}\")\n",
    "\n",
    "# d. Tìm khoảng cách nhỏ nhất giữa tập a và x\n",
    "# Sử dụng broadcasting: |a_i - x_j|, lấy min\n",
    "v_min = np.min(np.abs(a[:, np.newaxis] - x))\n",
    "\n",
    "print(f\"+ Day a: {a}\")\n",
    "print(f\"+ Day x: {x}\")\n",
    "print(f\"+ Khoang cach nho nhat: {v_min}\")"
   ]
  },
  {
   "cell_type": "markdown",
   "id": "b55f49c9-5750-4a07-abce-32280703492d",
   "metadata": {},
   "source": [
    "#### 4. Sinh ngẫu nhiên dãy số\n",
    "(a) Sinh ngẫu nhiên dãy số có 100 phần tử theo phân bố đều với giá trị trong đoạn [1, 10] và vẽ đồ thị tần số xuất hiện <br/> \n",
    "(b) Sinh ngẫu nhiên N diem (x, y) với y là hàm phân phối chuẩn $N(\\mu = 1, \\sigma^2 = 1.0)$: <br/>\n",
    " $$\n",
    " y = f\\left(x| \\mu, \\sigma\\right) = \\frac{1}{\\sigma\\sqrt{2\\pi}}exp\\left(-\\frac{\\left(x - \\mu\\right)^2}{2\\sigma^2}\\right)\n",
    " $$\n",
    " nơi mà $x \\in [\\mu - 5\\sigma, \\mu + 5\\sigma]$ <br/> \n",
    " (c) Sinh ngẫu nhiên dãy số có 100000 phần tử theo phân bố chuẩn $N(\\mu = 1, \\sigma^2 = 1.0)$ và vẽ đồ thị tần số xuất hiện <br/> <br/> "
   ]
  },
  {
   "cell_type": "code",
   "execution_count": 5,
   "id": "91ebe361-2b13-43dd-96f0-93d8820e3ed8",
   "metadata": {
    "tags": []
   },
   "outputs": [
    {
     "name": "stdout",
     "output_type": "stream",
     "text": [
      "a. Sinh ngẫu nhiên theo phân bố đều\n",
      "+ Gia tri: [ 1  2  3  4  5  6  7  8  9 10]\n",
      "+ So lan xuat hien: [ 6  9 13 12  7 11 11  8 10 13]\n",
      "+ Do thi ham so xuat hien\n"
     ]
    },
    {
     "data": {
      "image/png": "[encoded data removed]",
      "text/plain": [
       "<Figure size 600x600 with 1 Axes>"
      ]
     },
     "metadata": {},
     "output_type": "display_data"
    },
    {
     "name": "stdout",
     "output_type": "stream",
     "text": [
      "b. Sinh cặp (x, y) với y làm hàm phân phối chuẩn\n",
      "+ x: -4.0 <= min [-4.00] <= max [ 6.00] <= 6.0\n",
      "+ Ve ham so y(x)\n"
     ]
    },
    {
     "data": {
      "image/png": "[encoded data removed]",
      "text/plain": [
       "<Figure size 600x600 with 1 Axes>"
      ]
     },
     "metadata": {},
     "output_type": "display_data"
    },
    {
     "name": "stdout",
     "output_type": "stream",
     "text": [
      "c. Sinh day so theo phan phoi chuan\n",
      "+ x: len = 100000, min [-3.6326290620479886], max [4.85247609715723]\n",
      "+ Mat so xac suat cua day so x\n"
     ]
    },
    {
     "data": {
      "image/png": "[encoded data removed]",
      "text/plain": [
       "<Figure size 600x600 with 1 Axes>"
      ]
     },
     "metadata": {},
     "output_type": "display_data"
    }
   ],
   "source": [
    "import numpy as np\n",
    "import matplotlib.pyplot as plt\n",
    "\n",
    "# a) Sinh ngẫu nhiên dãy số có 100 phần tử theo phân bố đều với giá trị trong đoạn [1, 10] và vẽ đồ thị tần số xuất hiện\n",
    "a_rand = np.random.randint(1, 11, 100)\n",
    "value, cnt = np.unique(a_rand, return_counts=True)\n",
    "\n",
    "print(\"a. Sinh ngẫu nhiên theo phân bố đều\")\n",
    "print(f\"+ Gia tri: {value}\")\n",
    "print(f\"+ So lan xuat hien: {cnt}\")\n",
    "print(\"+ Do thi ham so xuat hien\")\n",
    "plt.figure(figsize=(6,6))\n",
    "plt.bar(value, cnt)\n",
    "plt.xlim(0, 11)\n",
    "plt.ylim(0, np.max(cnt) + 10)\n",
    "plt.xlabel(\"Giá trị\")\n",
    "plt.ylabel(\"Số lần xuất hiện\")\n",
    "plt.title(\"Tần số xuất hiện các giá trị (phân bố đều)\")\n",
    "plt.savefig(\"4a.png\")\n",
    "plt.show()\n",
    "\n",
    "# b) Sinh ngẫu nhiên N điểm (x, y) với y là hàm phân phối chuẩn N(mu=1, sigma^2=1.0)\n",
    "N = 100\n",
    "mu = 1\n",
    "sigma = 1.0\n",
    "x = np.linspace(mu - 5*sigma, mu + 5*sigma, N)\n",
    "y = (1/(sigma * np.sqrt(2*np.pi))) * np.exp(-((x - mu)**2) / (2*sigma**2))\n",
    "x_min = mu - 5*sigma\n",
    "x_max = mu + 5*sigma\n",
    "\n",
    "print(\"b. Sinh cặp (x, y) với y làm hàm phân phối chuẩn\")\n",
    "print(f\"+ x: {x_min} <= min [{np.min(x): .2f}] <= max [{np.max(x): .2f}] <= {x_max}\")\n",
    "print(f\"+ Ve ham so y(x)\")\n",
    "plt.figure(figsize=(6,6))\n",
    "plt.scatter(x, y)\n",
    "plt.xlabel(\"x\")\n",
    "plt.ylabel(\"y\")\n",
    "plt.title(\"Hàm phân phối chuẩn N(1, 1.0)\")\n",
    "plt.savefig(\"4b.png\")\n",
    "plt.show()\n",
    "\n",
    "# c) Sinh ngẫu nhiên dãy số có 100000 phần tử theo phân bố chuẩn N(mu=1, sigma^2=1.0) và vẽ đồ thị tần số xuất hiện\n",
    "x_norm = np.random.randn(100000) * sigma + mu\n",
    "cnt, val = np.histogram(x_norm, bins=300, density=True)\n",
    "\n",
    "print(\"c. Sinh day so theo phan phoi chuan\")\n",
    "print(f\"+ x: len = {len(x_norm)}, min [{np.min(x_norm)}], max [{np.max(x_norm)}]\")\n",
    "print(f\"+ Mat so xac suat cua day so x\")\n",
    "plt.figure(figsize=(6,6))\n",
    "plt.xlim(np.min(val), np.max(val))\n",
    "plt.scatter(val[:-1], cnt)\n",
    "plt.xlabel(\"Giá trị\")\n",
    "plt.ylabel(\"Mật độ xác suất\")\n",
    "plt.title(\"Phân phối chuẩn N(1, 1.0) với 100000 phần tử\")\n",
    "plt.show()"
   ]
  },
  {
   "cell_type": "markdown",
   "id": "7fb23809-cd65-4cbf-8673-0a10a38f8fd1",
   "metadata": {},
   "source": [
    "### Bài 2. Tính toán trên ma trận\n"
   ]
  },
  {
   "cell_type": "markdown",
   "id": "80c14144-5d3e-4959-ad68-2c4211e9a196",
   "metadata": {},
   "source": [
    "#### 1. Tạo ma trận a có M = 6 dòng, N = 4 cột\n"
   ]
  },
  {
   "cell_type": "code",
   "execution_count": 6,
   "id": "748f0dcd-3d63-4230-9936-9d87ac7e1c17",
   "metadata": {
    "tags": []
   },
   "outputs": [
    {
     "name": "stdout",
     "output_type": "stream",
     "text": [
      "Ma trận a: \n",
      " [[163 175 139 123]\n",
      " [185 117 136 105]\n",
      " [158 102 148 153]\n",
      " [127 128 147 120]\n",
      " [154 103 190 135]\n",
      " [145 132 178 182]]\n"
     ]
    }
   ],
   "source": [
    "# a = np.random.randint(100, 200, (6, 4))\n",
    "a = np.random.randint(100, 200, (6, 4))\n",
    "\n",
    "print(\"Ma trận a: \\n\", a)"
   ]
  },
  {
   "cell_type": "markdown",
   "id": "7d40c4b5-4c3d-4281-85fa-78b2cdbc8357",
   "metadata": {},
   "source": [
    "#### 2. Các thao tác trên ma trận a\n",
    "(a) In ra ma trận chuyển vị <br/>\n",
    "(b) In ra phần tử ở vị trí dòng 2 cột 3 <br/>\n",
    "(c) Trích xuất dòng đầu, dòng cuối, dòng 2 <br/>\n",
    "(d) Trích xuất cột kế cuối, cột đầu <br/>\n",
    "(e) Đảo các giá trị trên từng cột <br/>\n",
    "(f) Tính tổng các dòng, trung bình các cột <br/>"
   ]
  },
  {
   "cell_type": "code",
   "execution_count": 7,
   "id": "2942f8b4-3edb-40a2-b96c-37ae57754c3b",
   "metadata": {
    "tags": []
   },
   "outputs": [
    {
     "name": "stdout",
     "output_type": "stream",
     "text": [
      "a. In ra ma trận chuyển vị: \n",
      "[[163 185 158 127 154 145]\n",
      " [175 117 102 128 103 132]\n",
      " [139 136 148 147 190 178]\n",
      " [123 105 153 120 135 182]]\n",
      "\n",
      "b. In ra phần tử ở vị trí dòng 2 cột 3: 136\n",
      "\n",
      "c. Trích xuất các dòng: \n",
      "   + Dòng đầu : [163 175 139 123]\n",
      "   + Dòng cuối: [145 132 178 182]\n",
      "   + Dòng hai : [185 117 136 105]\n",
      "\n",
      "d. Trích xuất các cột: \n",
      "   + Cột kế cuối: [139 136 148 147 190 178]\n",
      "   + Cột đầu: [163 185 158 127 154 145]\n",
      "\n",
      "e. Đảo các giá trị trên từng cột: \n",
      " [[145 132 178 182]\n",
      " [154 103 190 135]\n",
      " [127 128 147 120]\n",
      " [158 102 148 153]\n",
      " [185 117 136 105]\n",
      " [163 175 139 123]]\n",
      "\n",
      "f. Phép tính theo trục:\n",
      "   + Tổng dòng: [600 543 561 522 582 637]\n",
      "   + Trung bình cột: [155.33333333 126.16666667 156.33333333 136.33333333]\n"
     ]
    }
   ],
   "source": [
    "# Các thao tác trên ma trận a\n",
    "a_t = a.T  # (a) Ma trận chuyển vị\n",
    "v_23 = a[1, 2]  # (b) Phần tử ở dòng 2 cột 3 (chỉ số bắt đầu từ 0)\n",
    "d_0 = a[0]      # (c) Dòng đầu\n",
    "d_last = a[-1]  # (c) Dòng cuối\n",
    "d_2 = a[1]      # (c) Dòng 2\n",
    "c_l1 = a[:, -2] # (d) Cột kế cuối\n",
    "c_0 = a[:, 0]   # (d) Cột đầu\n",
    "dao_cot = a[::-1, :]  # (e) Đảo các giá trị trên từng cột (đảo dòng)\n",
    "tong_dong = np.sum(a, axis=1)  # (f) Tổng các dòng\n",
    "tb_cot = np.mean(a, axis=0)    # (f) Trung bình các cột\n",
    "\n",
    "print(f\"a. In ra ma trận chuyển vị: \\n{a_t}\")\n",
    "print(f\"\\nb. In ra phần tử ở vị trí dòng 2 cột 3: {v_23}\")\n",
    "print(f\"\\nc. Trích xuất các dòng: \")\n",
    "print(f\"   + Dòng đầu : {d_0}\")\n",
    "print(f\"   + Dòng cuối: {d_last}\")\n",
    "print(f\"   + Dòng hai : {d_2}\")\n",
    "print(f\"\\nd. Trích xuất các cột: \")\n",
    "print(f\"   + Cột kế cuối: {c_l1}\")\n",
    "print(f\"   + Cột đầu: {c_0}\")\n",
    "print(f\"\\ne. Đảo các giá trị trên từng cột: \\n {dao_cot}\")\n",
    "print(f\"\\nf. Phép tính theo trục:\")\n",
    "print(f\"   + Tổng dòng: {tong_dong}\")\n",
    "print(f\"   + Trung bình cột: {tb_cot}\")"
   ]
  },
  {
   "cell_type": "markdown",
   "id": "fdf6347a-ea89-4fcf-bf3f-c1213d454139",
   "metadata": {},
   "source": [
    "#### 3. Các toán tử trên hai ma trận\n",
    "(a) Tạo hai ma trận A và B có 4 dòng x 3 cột và X có 3 dòng x 4 cột <br/>\n",
    "(b) Tính tổng, hiệu, tích của từng phần tử trên hai ma trận A và B <br/>\n",
    "(c) Tính phép nhân ma trận Y = A x X"
   ]
  },
  {
   "cell_type": "code",
   "execution_count": 8,
   "id": "a1bc43e2-1e2e-4a77-b200-1bb054da7e53",
   "metadata": {
    "tags": []
   },
   "outputs": [
    {
     "name": "stdout",
     "output_type": "stream",
     "text": [
      "a. Tạo hai ma trận A và B có 4 dòng x 3 cột và X có 3 dòng x 4 cột\n",
      "+ Ma tran A: \n",
      "[[8 1 8]\n",
      " [5 7 1]\n",
      " [8 8 5]\n",
      " [1 6 9]]\n",
      "+ Ma tran B: \n",
      "[[9 5 2]\n",
      " [3 3 4]\n",
      " [8 9 2]\n",
      " [3 9 4]]\n",
      "+ Ma tran X: \n",
      "[[9 1 5 5]\n",
      " [1 1 4 9]\n",
      " [8 8 8 9]]\n",
      "\n",
      "b. Tính tổng, hiệu, tích của từng phần tử trên hai ma trận A và B\n",
      "A + B = \n",
      "[[17  6 10]\n",
      " [ 8 10  5]\n",
      " [16 17  7]\n",
      " [ 4 15 13]]\n",
      "A - B = \n",
      "[[-1 -4  6]\n",
      " [ 2  4 -3]\n",
      " [ 0 -1  3]\n",
      " [-2 -3  5]]\n",
      "A . B = \n",
      "[[72  5 16]\n",
      " [15 21  4]\n",
      " [64 72 10]\n",
      " [ 3 54 36]]\n",
      "\n",
      "c. Tính phép nhân ma trận Y = A x X\n",
      "Y = A x X --> shape A ((4, 3)) x shape X ((3, 4)) = shape Y ((4, 4)) \n",
      "[[137  73 108 121]\n",
      " [ 60  20  61  97]\n",
      " [120  56 112 157]\n",
      " [ 87  79 101 140]]\n"
     ]
    }
   ],
   "source": [
    "# a. Tạo hai ma trận A và B có 4 dòng x 3 cột và X có 3 dòng x 4 cột\n",
    "A = np.random.randint(1, 10, (4, 3))\n",
    "B = np.random.randint(1, 10, (4, 3))\n",
    "X = np.random.randint(1, 10, (3, 4))\n",
    "\n",
    "print(\"a. Tạo hai ma trận A và B có 4 dòng x 3 cột và X có 3 dòng x 4 cột\")\n",
    "print(f\"+ Ma tran A: \\n{A}\")\n",
    "print(f\"+ Ma tran B: \\n{B}\")\n",
    "print(f\"+ Ma tran X: \\n{X}\")\n",
    "\n",
    "# b. Tính tổng, hiệu, tích của từng phần tử trên hai ma trận A và B\n",
    "AB_add = A + B\n",
    "AB_sub = A - B\n",
    "AB_mul = A * B\n",
    "\n",
    "print(\"\\nb. Tính tổng, hiệu, tích của từng phần tử trên hai ma trận A và B\")\n",
    "print(f\"A + B = \\n{AB_add}\")\n",
    "print(f\"A - B = \\n{AB_sub}\")\n",
    "print(f\"A . B = \\n{AB_mul}\")\n",
    "\n",
    "# c. Tính phép nhân ma trận Y = A x X\n",
    "Y = np.dot(A, X)\n",
    "\n",
    "print(\"\\nc. Tính phép nhân ma trận Y = A x X\")\n",
    "print(f\"Y = A x X --> shape A ({A.shape}) x shape X ({X.shape}) = shape Y ({Y.shape}) \\n{Y}\")"
   ]
  },
  {
   "cell_type": "markdown",
   "id": "99ffe9d9-5303-4f17-a2f5-94bfd3c18743",
   "metadata": {},
   "source": [
    "#### 4. Giải hệ phương trình tuyến tính\n",
    "Giải hệ phương trình tuyến tính sau:\n",
    "$$\n",
    "\\left\\{\\begin{matrix}\n",
    "        4x_1  + 3x_2 - 5x_3 = 2 \\\\ \n",
    "        -2x_1 - 4x_2 + 5x_3 = 5 \\\\ \n",
    "        8x_1 + 8x_2 = -3 \\\\ \n",
    "\\end{matrix}\\right.\n",
    "$$"
   ]
  },
  {
   "cell_type": "code",
   "execution_count": 9,
   "id": "49e2b6ac-e5df-4f84-adc3-f72d827eaf84",
   "metadata": {
    "tags": []
   },
   "outputs": [
    {
     "name": "stdout",
     "output_type": "stream",
     "text": [
      "+ Ma tran A: \n",
      "[[ 4  3 -5]\n",
      " [-2 -4  5]\n",
      " [ 8  8  0]]\n",
      "+ Vector y: [ 2  5 -3]\n",
      "+ Nghiem x: [ 2.20833333 -2.58333333 -0.18333333]\n",
      "+ Kiem tra: yy = Ax = [ 2.  5. -3.] ==> ||yy -y ||_2 =  0.00\n"
     ]
    }
   ],
   "source": [
    "# Giải hệ phương trình tuyến tính\n",
    "# 4x1 + 3x2 - 5x3 = 2\n",
    "# -2x1 - 4x2 + 5x3 = 5\n",
    "# 8x1 + 8x2 = -3\n",
    "\n",
    "A = np.array([\n",
    "    [4, 3, -5],\n",
    "    [-2, -4, 5],\n",
    "    [8, 8, 0]\n",
    "])\n",
    "y = np.array([2, 5, -3])\n",
    "\n",
    "x = np.linalg.solve(A, y)\n",
    "yy = np.dot(A, x)\n",
    "diff = np.linalg.norm(yy - y)\n",
    "\n",
    "print(f\"+ Ma tran A: \\n{A}\")\n",
    "print(f\"+ Vector y: {y}\")\n",
    "print(f\"+ Nghiem x: {x}\")\n",
    "print(f\"+ Kiem tra: yy = Ax = {yy} ==> ||yy -y ||_2 = {diff: .2f}\")"
   ]
  },
  {
   "cell_type": "markdown",
   "id": "c96f0dd6-7a44-4226-a9bb-68688a28864e",
   "metadata": {},
   "source": [
    "## Bài tập áp dụng\n"
   ]
  },
  {
   "cell_type": "markdown",
   "id": "ab564fca-8c03-4dde-9a31-b9c6e207b759",
   "metadata": {},
   "source": [
    "### Bài 3. Tính gần đúng số pi dùng phương pháp Monte Carlo\n",
    "\n",
    "Vẽ một đường tròn $C$ có bán kính $r$ nội tiếp một hình vuông $C$, và đặt ngẫu nhiên $N$ chấm lên hình vuông. Tỉ lệ các chấm nằm trong hình tròn trên tổng số chấm xấp xỉ bằng diện tích của hình tròn chia cho hình vuông như sau:\n",
    "$$\n",
    "\\frac{N_C}{N} \\approx  \\frac{\\mathbb{S}_C}{\\mathbb{S}_N}\n",
    "$$\n",
    "nơi mà $N_C$ là các chấm trong hình tròn, $N$ là tổng số chấm, $\\mathbb{S}_C$ và $\\mathbb{S}_N$ lần lượt là diện tích của hình tròn và hình vuông.\n",
    "$$ \\mathbb{S}_C = \\pi * r^2 $$\n",
    "$$ \\mathbb{S}_N = (2*r)^2 = 4r^2 $$\n",
    "Do đó, công thức trên trở thành:\n",
    "$$\n",
    "\\frac{N_C}{N} \\approx \\frac{\\pi * r^2}{4r^2} = \\frac{\\pi}{4}\n",
    "$$\n",
    "Suy ra, ta có giá trị số $\\pi$ được tính như sau:\n",
    "$$\n",
    "\\pi \\approx \\frac{4N_C}{N}\n",
    "$$\n",
    "\n",
    "Các bạn hãy lập trình tính sấp xỉ số $\\pi$ dùng phương pháp Monte Carlo. Cho biết các sai số với $N = 100$, $N = 10000$, và $N = 1000000$. Vẽ đồ thị minh họa cho chương trình.\n",
    "\n",
    "**Hướng dẫn**: Viết chương trình phát sinh $N$ điểm $(x_i, y_i)$ với $x_i, y_i \\in [-1, -1]$. $(x_i, y_i)$ thuộc hình tròn tâm $(0, 0)$ bán kính 1 nội tiếp hình vuông có tâm tại $(0, 0)$ độ dài cạnh 2 khi và chỉ khi $x_i^2 + y_i^2 <= 1$."
   ]
  },
  {
   "cell_type": "code",
   "execution_count": 12,
   "id": "120db4f8-eab7-4ea2-9c0b-7c9d18cb53ed",
   "metadata": {
    "tags": []
   },
   "outputs": [
    {
     "data": {
      "image/png": "[encoded data removed]",
      "text/plain": [
       "<Figure size 600x600 with 1 Axes>"
      ]
     },
     "metadata": {},
     "output_type": "display_data"
    },
    {
     "name": "stdout",
     "output_type": "stream",
     "text": [
      "epsilon(n=100):  -0.18159265358979315\n",
      "epsilon(n=100):  0.1384073464102067\n",
      "epsilon(n=10000):  0.002007346410207056\n",
      "epsilon(n=10000):  -0.0027926535897933036\n",
      "epsilon(n=1000000):  -0.0010646535897929077\n",
      "epsilon(n=1000000):  0.0001273464102067301\n"
     ]
    }
   ],
   "source": [
    "import matplotlib.pyplot as plt # khai báo thư viện vẽ pyplot\n",
    "import math\n",
    "\n",
    "circle = plt.Circle((0, 0), 1, color='g') # tạo đối tượng vòng tròn\n",
    "\n",
    "fig, ax = plt.subplots(figsize=(6, 6)) # lấy figure và vùng vẽ\n",
    "\n",
    "plt.plot(0, 0, 'o', color=(0.9, 0.9, 1.0), alpha=0.8) # vẽ điểm tại tâm (0,0)\n",
    "ax.add_patch(circle) # thêm vòng tròn vào vùng vẽ\n",
    "\n",
    "x = 0.75; y = math.sqrt(1 - (x ** 2)) # (x = 0.75, y = căn bậc 2 của 1 - x^2)\n",
    "plt.arrow(0, 0, x, y)\n",
    "\n",
    "plt.xlim(-1, 1) # giới hạn trục x\n",
    "plt.ylim(-1, 1) # giới hạn trục y\n",
    "\n",
    "plt.savefig('pi.png') # lưu đồ thị xuống tập tin\n",
    "plt.show()            # hiển thị đồ thị\n",
    "import numpy as np\n",
    "\n",
    "def calc_pi_monte_carlo(n = 100):\n",
    "    # Sinh ngẫu nhiên n điểm (x, y) trong [-1, 1] x [-1, 1]\n",
    "    x = np.random.uniform(-1, 1, n)\n",
    "    y = np.random.uniform(-1, 1, n)\n",
    "    # Đếm số điểm nằm trong hình tròn tâm (0,0), bán kính 1\n",
    "    inside = (x ** 2 + y ** 2) <= 1\n",
    "    pi = 4 * np.sum(inside) / n\n",
    "    return pi\n",
    "# calc_pi_monte_carlo\n",
    "\n",
    "import math\n",
    "\n",
    "print(\"epsilon(n=100): \", calc_pi_monte_carlo(n = 100) - math.pi)\n",
    "print(\"epsilon(n=100): \", calc_pi_monte_carlo(n = 100) - math.pi)\n",
    "print(\"epsilon(n=10000): \", calc_pi_monte_carlo(n = 10000) - math.pi)\n",
    "print(\"epsilon(n=10000): \", calc_pi_monte_carlo(n = 10000) - math.pi)\n",
    "print(\"epsilon(n=1000000): \", calc_pi_monte_carlo(n = 1000000) - math.pi)\n",
    "print(\"epsilon(n=1000000): \", calc_pi_monte_carlo(n = 1000000) - math.pi)"
   ]
  },
  {
   "cell_type": "markdown",
   "id": "b4e10996-a657-4025-bf87-ee911080615e",
   "metadata": {},
   "source": [
    "# Kết thúc"
   ]
  }
 ],
 "metadata": {
  "kernelspec": {
   "display_name": "Python 3 (ipykernel)",
   "language": "python",
   "name": "python3"
  },
  "language_info": {
   "codemirror_mode": {
    "name": "ipython",
    "version": 3
   },
   "file_extension": ".py",
   "mimetype": "text/x-python",
   "name": "python",
   "nbconvert_exporter": "python",
   "pygments_lexer": "ipython3",
   "version": "3.11.5"
  }
 },
 "nbformat": 4,
 "nbformat_minor": 5
}
