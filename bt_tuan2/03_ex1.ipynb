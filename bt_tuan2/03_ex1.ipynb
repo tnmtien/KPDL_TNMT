{
 "cells": [
  {
   "cell_type": "markdown",
   "id": "cfe1f858-d03b-4220-ae0e-e7f9e34f0b92",
   "metadata": {},
   "source": [
    "## 1. Nhập/xuất, biểu thức tính toán"
   ]
  },
  {
   "cell_type": "markdown",
   "id": "f7800c93-071d-40ee-9b18-92523f387a46",
   "metadata": {},
   "source": [
    "### Bài 1. Tính giá trị hàm số\n",
    "**Yêu cầu**: Hãy viết chương trình nhập vào số thực x và tính giá trị biểu thức:\n",
    "$$\n",
    "    f\\left(x\\right) = x + \\frac{x^5}{5!} + \\frac{\\sqrt{|x|}}{x^{3/2}}\n",
    "$$\n",
    "> Moi ban nhap vao gia tri cua bien so x: **2.3** <br/>\n",
    "> Gia tri cua ham so f(**2.3**) = **3.27**.\n"
   ]
  },
  {
   "cell_type": "code",
   "execution_count": 1,
   "id": "87af016f-0a84-4cac-8e40-502a2a843447",
   "metadata": {
    "tags": []
   },
   "outputs": [
    {
     "name": "stdin",
     "output_type": "stream",
     "text": [
      "Moi ban nhap vao gia tri cua bien so x:  2.3\n"
     ]
    },
    {
     "name": "stdout",
     "output_type": "stream",
     "text": [
      "Gia tri cua ham so f(2.3) =  3.27.\n"
     ]
    }
   ],
   "source": [
    "# Khai báo thư viện\n",
    "import math\n",
    "\n",
    "# Nhập dữ liệu\n",
    "x   = float(input('Moi ban nhap vao gia tri cua bien so x: '))\n",
    "# Xử lý\n",
    "f_x = x + (x**5) / math.factorial(5) + math.sqrt(abs(x)) / (x**(3/2))\n",
    "\n",
    "# Xuất dữ liệu\n",
    "print(f'Gia tri cua ham so f({x}) = {f_x: .2f}.')"
   ]
  },
  {
   "cell_type": "markdown",
   "id": "593900b6-8a07-476f-93fb-352b0fa5d33a",
   "metadata": {},
   "source": [
    "### Bài 2. Đổi sang giờ phút giây\n",
    "Một thiết bị hoạt động được t giây. Hãy viết chương trình chuyển số giây đó dưới dạng số giờ, số phút và số giây.\n",
    ">Nhap vao tong so giay: **4810** <br/>\n",
    ">**4810** giay co dang **1:20:10**"
   ]
  },
  {
   "cell_type": "code",
   "execution_count": 2,
   "id": "1b35412e-bd9a-49ba-a132-f9a56e259f59",
   "metadata": {
    "tags": []
   },
   "outputs": [
    {
     "name": "stdin",
     "output_type": "stream",
     "text": [
      "Nhap vao tong so giay:  4810\n"
     ]
    },
    {
     "name": "stdout",
     "output_type": "stream",
     "text": [
      "4810 giay co dang 1:20:10\n"
     ]
    }
   ],
   "source": [
    "# Nhập dữ liệu\n",
    "t  = int(input('Nhap vao tong so giay: '))\n",
    "\n",
    "# Xử lý\n",
    "hh = t // 3600\n",
    "mm = (t % 3600) // 60\n",
    "ss = t % 60\n",
    "\n",
    "# Xuất dữ liệu\n",
    "print(f'{t} giay co dang {hh}:{mm}:{ss}')"
   ]
  },
  {
   "cell_type": "markdown",
   "id": "82f1b0f1-43ad-462a-ae94-4f6e570c5619",
   "metadata": {},
   "source": [
    "## 2. Cấu trúc lựa chọn\n"
   ]
  },
  {
   "cell_type": "markdown",
   "id": "57504c5f-6116-4ba5-aa2c-cd8d06e9dfdc",
   "metadata": {},
   "source": [
    "### Bài 3. Giải phuơng trình bậc 1\n",
    "Nhập 2 số thực $a$, $b$. Tìm nghiệm của phương trình bậc 1 $ax + b = 0$.\n",
    ">Moi ban nhap he so a: **1** <br/>\n",
    ">Moi ban nhap he so b: **5** <br/>\n",
    ">Phuong trinh **1x + 5 = 0** co **1** nghiem x = **-5.00**."
   ]
  },
  {
   "cell_type": "code",
   "execution_count": 3,
   "id": "533ef451-016a-4f94-8c1e-c67586a386d1",
   "metadata": {
    "tags": []
   },
   "outputs": [
    {
     "name": "stdin",
     "output_type": "stream",
     "text": [
      "Moi ban nhap he so a:  1\n",
      "Moi ban nhap he so b:  5\n"
     ]
    },
    {
     "name": "stdout",
     "output_type": "stream",
     "text": [
      "Phuong trinh 1.0x + 5.0 = 0 co 1 nghiem x = -5.00.\n"
     ]
    }
   ],
   "source": [
    "# Nhập dữ liệu\n",
    "a  = float(input('Moi ban nhap he so a: '))\n",
    "b  = float(input('Moi ban nhap he so b: '))\n",
    "\n",
    "# Xử lý\n",
    "if a == 0:\n",
    "    if b == 0:\n",
    "        flag = -1  # vô số nghiệm\n",
    "        x = None\n",
    "    else:\n",
    "        flag = 0   # vô nghiệm\n",
    "        x = None\n",
    "else:\n",
    "    flag = 1      # có 1 nghiệm\n",
    "    x = -b / a\n",
    "\n",
    "# Xuất dữ liệu\n",
    "s = f'Phuong trinh {a}x + {b} = 0'\n",
    "if flag == -1:\n",
    "    print(f'{s} vo so nghiem.')\n",
    "elif flag == 0:\n",
    "    print(f'{s} vo nghiem.')\n",
    "else:\n",
    "    print(f'{s} co 1 nghiem x = {x:.2f}.')\n",
    "\n"
   ]
  },
  {
   "cell_type": "markdown",
   "id": "6478854d-a210-4110-814f-6a19ee982663",
   "metadata": {},
   "source": [
    "### Bài 4. Chuyển ký số sang số\n",
    "Nhập một chuỗi s là chuỗi biểu diễn ký tự số trong tiếng Anh gồm {zero, one, two, three, four, five, six, seven, eight, nine}. Hãy kiểm tra chuỗi nhập có hợp lệ không? Nếu hợp lệ thì in ra ký số của chuỗi đó và chuỗi ký số bên tiếng việt tương ứng.\n",
    "> Moi ban nhap chuoi ky so s: One <br/>\n",
    "> Chuoi vua nhap hop le! \n",
    "> \"One\" bieu dien so cho \"1\" va ung voi tieng Viet \"mot\".\n",
    "\n",
    "> Moi ban nhap chuoi ky so s: hello <br/>\n",
    "> Chuoi vua nhap khong hop le!"
   ]
  },
  {
   "cell_type": "code",
   "execution_count": 4,
   "id": "d872d56b-3d04-4fcd-a8e4-f9a9727d0f01",
   "metadata": {
    "tags": []
   },
   "outputs": [
    {
     "name": "stdin",
     "output_type": "stream",
     "text": [
      "Moi ban nhap chuoi ky so s:  One\n"
     ]
    },
    {
     "name": "stdout",
     "output_type": "stream",
     "text": [
      "Chuoi vua nhap hop le!\n",
      "\"One\" bieu dien so cho \"1\" va ung voi tieng Viet \"mot\".\n"
     ]
    }
   ],
   "source": [
    "s = input(\"Moi ban nhap chuoi ky so s: \")\n",
    "\n",
    "en  = [\"zero\", \"one\", \"two\", \"three\", \"four\", \"five\", \"six\", \"seven\", \"eight\", \"nine\"]\n",
    "vi  = [\"khong\", \"mot\", \"hai\", \"ba\", \"bon\", \"nam\", \"sau\", \"bay\", \"tam\", \"chin\"]\n",
    "num = [0, 1, 2, 3, 4, 5, 6, 7, 8, 9]\n",
    "\n",
    "s_lower = s.strip().lower()\n",
    "if s_lower in en:\n",
    "    idx = en.index(s_lower)\n",
    "    print(\"Chuoi vua nhap hop le!\")\n",
    "    print(f'\"{s}\" bieu dien so cho \"{num[idx]}\" va ung voi tieng Viet \"{vi[idx]}\".')\n",
    "else:\n",
    "    print(\"Chuoi vua nhap khong hop le!\")\n"
   ]
  },
  {
   "cell_type": "markdown",
   "id": "7f5d01b0-a37f-44d0-a486-9d5d1546816c",
   "metadata": {},
   "source": [
    "## 3. Cấu trúc lặp"
   ]
  },
  {
   "cell_type": "markdown",
   "id": "c63e2a64-a5cb-4dda-aac5-dbcf196d92ce",
   "metadata": {},
   "source": [
    "### Bài 5. Tính tổng các số chẵn\n",
    "Nhập một số nguyên n. Hãy tính tổng các số chẵn từ 1 đến n.\n",
    "> Moi ban nhap so nguyen n: **100** <br>\n",
    "> Tong cac so chan tu 1 den **100** la **2550**."
   ]
  },
  {
   "cell_type": "code",
   "execution_count": 5,
   "id": "3de6d86a-719f-474e-9b38-1787cb726bcb",
   "metadata": {
    "tags": []
   },
   "outputs": [
    {
     "name": "stdin",
     "output_type": "stream",
     "text": [
      "Moi ban nhap so nguyen n:  100\n"
     ]
    },
    {
     "name": "stdout",
     "output_type": "stream",
     "text": [
      "Tong cac so chan tu 1 den 100 la 2550.\n"
     ]
    }
   ],
   "source": [
    "# Nhập dữ liệu\n",
    "n   = int(input(\"Moi ban nhap so nguyen n: \"))\n",
    "\n",
    "# Xử lý\n",
    "s = 0\n",
    "for i in range(2, n+1, 2):\n",
    "    s += i\n",
    "\n",
    "# Xuất dữ liệu\n",
    "print(f'Tong cac so chan tu 1 den {n} la {s}.')"
   ]
  },
  {
   "cell_type": "markdown",
   "id": "4807c458-d035-4ba7-aec6-08e6cde97d64",
   "metadata": {},
   "source": [
    "### Bài 6. Kiểm tra số nguyên tố\n",
    "\n",
    "Nhập vào một số nguyên dương n. Hãy kiểm tra xem n có phải là nguyên tố không?\n",
    "> Moi nhap nhap so nguyen n: **10** <br/>\n",
    "> **10** khong phai la so nguyen to.\n",
    "\n",
    "> Moi nhap nhap so nguyen n: **97** <br/>\n",
    "> **97** la so nguyen to.\n",
    "\n",
    "**Lưu ý**: n là số nguyên tố khi và chỉ khi không tồn tại số nguyên từ $2$ đến $\\sqrt(n)$ mà chia hết cho n."
   ]
  },
  {
   "cell_type": "code",
   "execution_count": 7,
   "id": "27934925-de57-4235-ba99-7bede6b27985",
   "metadata": {
    "tags": []
   },
   "outputs": [
    {
     "name": "stdin",
     "output_type": "stream",
     "text": [
      "Moi ban nhap so nguyen n:  10\n"
     ]
    },
    {
     "name": "stdout",
     "output_type": "stream",
     "text": [
      "10 khong la so nguyen to.\n"
     ]
    }
   ],
   "source": [
    "# Nhập dữ liệu\n",
    "n   = int(input(\"Moi ban nhap so nguyen n: \"))\n",
    "\n",
    "# Xử lý \n",
    "if n < 2:\n",
    "    lant = False\n",
    "else:\n",
    "    lant = True\n",
    "    for i in range(2, int(n**0.5) + 1):\n",
    "        if n % i == 0:\n",
    "            lant = False\n",
    "            break\n",
    "\n",
    "# Xuất dữ liệu\n",
    "if lant == True:\n",
    "    print(f'{n} la so nguyen to.')\n",
    "else:\n",
    "    print(f'{n} khong la so nguyen to.')"
   ]
  },
  {
   "cell_type": "markdown",
   "id": "f1955cda-dc63-4528-91e4-6b10efa4a2a4",
   "metadata": {},
   "source": [
    "## 4. Xử lý ngoại lệ và hàm số\n"
   ]
  },
  {
   "cell_type": "markdown",
   "id": "562a9a7b-e1cf-4900-a32e-568114a78661",
   "metadata": {},
   "source": [
    "### Bài 7. Giải phương trình bậc 2\n",
    "Nhập 3 số thực a, b, c (có kiểm tra dữ liệu nhập số thực). Hãy xây dựng hàm giải phương trình bậc 2 $ax^2+bx+c=0$ và in kết quả giải ra màn hình.\n",
    "> Moi ban nhap he so a, b, c:  **a b c**<br/>\n",
    "> Ban nhap sai! Moi ban nhap lai!<br/>\n",
    "> Moi ban nhap he so a, b, c:  **1 a 3**<br/>\n",
    "> Ban nhap sai! Moi ban nhap lai!<br/>\n",
    "> Moi ban nhap he so a, b, c: **1 5 6**<br/>\n",
    "> Phuong trinh bac 2 **1x^2 + 5x + 6 = 0** co **2**  nghiem x1 = **-2.00**, x2 = **-3.00**."
   ]
  },
  {
   "cell_type": "code",
   "execution_count": 8,
   "id": "cabc6645-9c85-41c5-b6b4-7409360ad1dc",
   "metadata": {
    "tags": []
   },
   "outputs": [
    {
     "name": "stdin",
     "output_type": "stream",
     "text": [
      "Moi ban nhap he so a, b, c:  1 5 6\n"
     ]
    },
    {
     "name": "stdout",
     "output_type": "stream",
     "text": [
      "Phuong trinh bac 2 1.0x^2 + 5.0x + 6.0 = 0 co 2 nghiem, x1 = -2.00, x2 = -3.00!\n"
     ]
    }
   ],
   "source": [
    "def NhapDuLieu():\n",
    "    \"\"\"\n",
    "    Input: \n",
    "        Ban phim = 1 5 6\n",
    "    Output:\n",
    "        (a, b, c) --> (1, 5, 6)\n",
    "    \"\"\"\n",
    "    while True:\n",
    "        try:\n",
    "            s = input(\"Moi ban nhap he so a, b, c: \")\n",
    "            lst = s.strip().split()\n",
    "            if len(lst) != 3:\n",
    "                print(\"Ban nhap sai! Moi ban nhap lai!\")\n",
    "                continue\n",
    "            a = float(lst[0])\n",
    "            b = float(lst[1])\n",
    "            c = float(lst[2])\n",
    "            return a, b, c\n",
    "        except:\n",
    "            print(\"Ban nhap sai! Moi ban nhap lai!\")\n",
    "# NhapDuLieu\n",
    "\n",
    "def GiaiPhuongTrinhBac2(a, b, c):\n",
    "    \"\"\"\n",
    "    Input: a, b, c\n",
    "    Output: \n",
    "    + flag = -1 (VSN), 0 (VN), k (k nghiem)\n",
    "    + () --> flag = -1, 0\n",
    "    + (x) --> flag = 1\n",
    "    + (x1, x2) --> flag = 2\n",
    "    \"\"\"\n",
    "    import math\n",
    "    if a == 0:\n",
    "        if b == 0:\n",
    "            if c == 0:\n",
    "                return -1, ()\n",
    "            else:\n",
    "                return 0, ()\n",
    "        else:\n",
    "            return 1, (-c/b,)\n",
    "    delta = b**2 - 4*a*c\n",
    "    if delta < 0:\n",
    "        return 0, ()\n",
    "    elif delta == 0:\n",
    "        x = -b/(2*a)\n",
    "        return 1, (x,)\n",
    "    else:\n",
    "        sqrt_delta = math.sqrt(delta)\n",
    "        x1 = (-b + sqrt_delta)/(2*a)\n",
    "        x2 = (-b - sqrt_delta)/(2*a)\n",
    "        return 2, (x1, x2)\n",
    "# GiaiPhuongTrinhBac2\n",
    "\n",
    "# Kết nối bài\n",
    "a, b, c = NhapDuLieu()\n",
    "flag, x = GiaiPhuongTrinhBac2(a, b, c)\n",
    "s = f'Phuong trinh bac 2 {a}x^2 + {b}x + {c} = 0'\n",
    "if flag == -1:\n",
    "    print(f'{s} co vo so nghiem!')\n",
    "elif flag == 0:\n",
    "    print(f'{s} vo nghiem!')\n",
    "elif flag == 1:\n",
    "    print(f'{s} co 1 nghiem, x = {x[0]:.2f}!')\n",
    "elif flag == 2:\n",
    "    print(f'{s} co 2 nghiem, x1 = {x[0]:.2f}, x2 = {x[1]:.2f}!')"
   ]
  },
  {
   "cell_type": "markdown",
   "id": "9b19f48d-7df8-4ecf-84bb-f12c0136db7e",
   "metadata": {},
   "source": [
    "## 5. Dữ liệu nâng cao (List, Tuple, Set, Dictionary)"
   ]
  },
  {
   "cell_type": "markdown",
   "id": "cee78f8e-6f77-44e8-93dd-a264b4152495",
   "metadata": {},
   "source": [
    "### Bài 8. Các thao tác xử lý mảng số\n",
    "\n",
    "Viết chương trình xây dựng các hàm sau cho List và kiểm tra tính đúng đắn của các hàm số:\n",
    "+ Nhập một mảng số từ bàn phím cách nhau bởi khoảng trắng. Xuất mảng ra màn hình. <br/>\n",
    "+ Sinh một mảng số ngẫu nhiên có n phần tử trong khoảng a, b.\n",
    "+ Tính tổng của mảng số, đếm các phần tử chẵn, lẻ trong mảng.\n",
    "+ Cho một mảng số, hãy trả về dãy chẳn, dãy lẻ.\n",
    "\n",
    "> a = NhapMang() <br/>\n",
    "> XuatMang(a) <br/>\n",
    "> b = SinhNgauNhien(10, -10, 10) <br/>\n",
    "> XuatMang(b) <br/>\n",
    "> tong, chan, le = TinhTongChanLe(b) <br/>\n",
    "> a_chan, a_le = TimChanLe(b) <br/>"
   ]
  },
  {
   "cell_type": "code",
   "execution_count": 11,
   "id": "75417868-4d4d-4ec8-a7cc-dba2ca62443f",
   "metadata": {
    "tags": []
   },
   "outputs": [],
   "source": [
    "def NhapMang():\n",
    "    \"\"\"\n",
    "    Input:\n",
    "        Ban phim = 1 4 1 2 3 4 1 2 3 3 1 2 3 4 10 2\n",
    "    Output:\n",
    "        a = [1, 4, 1, 2, 3, 4, 1, 2, 3, 3, 1, 2, 3, 4, 10, 2]\n",
    "    \"\"\"\n",
    "    s = input(\"Nhap mang so (cach nhau boi khoang trang): \")\n",
    "    a = [int(x) for x in s.strip().split()]\n",
    "    return a\n",
    "# NhapMang\n",
    "\n",
    "def XuatMang(a):\n",
    "    \"\"\"\n",
    "    Input:\n",
    "        a = [1, 4, 1, 2, 3, 4, 1, 2, 3, 3, 1, 2, 3, 4, 10, 2]\n",
    "    Output: \n",
    "        In ra man hinh:\n",
    "            Mang co 16 phan tu: 1 4 1 2 3 4 1 2 3 3 1 2 3 4 10 2 \n",
    "    \"\"\"\n",
    "    print(f'Mang co {len(a)} phan tu:', ' '.join(str(x) for x in a))\n",
    "# XuatMang\n",
    "\n",
    "import random\n",
    "def SinhNgauNhien(n, vmin = -10, vmax = 10):\n",
    "    \"\"\"\n",
    "    Input:\n",
    "        n = 30, vmin = -10, vmax = 10\n",
    "    Output:\n",
    "        a = [...]\n",
    "    \"\"\"    \n",
    "    a = [random.randint(vmin, vmax) for _ in range(n)]\n",
    "    return a\n",
    "# SinhNgauNhien\n",
    "\n",
    "def DemTongChanLe(a):\n",
    "    \"\"\"\n",
    "    Input: a[] = [...]\n",
    "    Output: tong, sochan, sole\n",
    "    \"\"\"\n",
    "    tong = sum(a)\n",
    "    sochan = sum(1 for x in a if x % 2 == 0)\n",
    "    sole = sum(1 for x in a if x % 2 != 0)\n",
    "    return tong, sochan, sole\n",
    "# DemTongChanLe\n",
    "\n",
    "def DayChanLe(a):\n",
    "    \"\"\"\n",
    "    Input: a = [...]\n",
    "    Output: (achan, ale)\n",
    "    \"\"\"\n",
    "    achan = [x for x in a if x % 2 == 0]\n",
    "    ale = [x for x in a if x % 2 != 0]\n",
    "    return achan, ale"
   ]
  },
  {
   "cell_type": "code",
   "execution_count": 12,
   "id": "1fffc0ac-d475-4b34-bbf3-cf1c33d687bd",
   "metadata": {
    "tags": []
   },
   "outputs": [
    {
     "name": "stdin",
     "output_type": "stream",
     "text": [
      "Nhap mang so (cach nhau boi khoang trang):  3\n"
     ]
    },
    {
     "name": "stdout",
     "output_type": "stream",
     "text": [
      "Mang co 1 phan tu: 3\n",
      "Mang co 10 phan tu: 6 -7 3 3 10 8 6 -10 10 1\n",
      "Tong = 30, So chan = 6, So le = 4\n",
      "Day chan: [6, 10, 8, 6, -10, 10]\n",
      "Day le: [-7, 3, 3, 1]\n"
     ]
    }
   ],
   "source": [
    "a = NhapMang()\n",
    "XuatMang(a)\n",
    "b = SinhNgauNhien(10, -10, 10)\n",
    "XuatMang(b)\n",
    "tong, chan, le = DemTongChanLe(b)\n",
    "print(f'Tong = {tong}, So chan = {chan}, So le = {le}')\n",
    "a_chan, a_le = DayChanLe(b)\n",
    "print(f'Day chan: {a_chan}')\n",
    "print(f'Day le: {a_le}')"
   ]
  },
  {
   "cell_type": "markdown",
   "id": "1c08210a-33ac-4dd9-ade2-9c28ba3da9e8",
   "metadata": {},
   "source": [
    "### Bài 9. Các thao tác trên tập hợp, từ điển\n",
    "\n",
    "Viết chương trình nhập vào một dãy ký tự a cách nhau bởi khoảng trắng. Hãy thực hiện:\n",
    "+ In các ký tự trong a không trùng nhau và được sắp theo thứ tự tăng dần\n",
    "+ Đếm số lần xuất hiện các ký tự trong dãy a\n"
   ]
  },
  {
   "cell_type": "code",
   "execution_count": 13,
   "id": "35e5f5fc-21bd-462c-b473-ff3ad2620442",
   "metadata": {
    "tags": []
   },
   "outputs": [
    {
     "name": "stdin",
     "output_type": "stream",
     "text": [
      "Nhap day ky tu (cach nhau boi khoang trang):  khoa hoc du Lieu\n"
     ]
    },
    {
     "name": "stdout",
     "output_type": "stream",
     "text": [
      "Cac ky tu khong trung nhau va sap tang dan: ['Lieu', 'du', 'hoc', 'khoa']\n",
      "So lan xuat hien cua tung ky tu: {'khoa': 1, 'hoc': 1, 'du': 1, 'Lieu': 1}\n"
     ]
    }
   ],
   "source": [
    "def XuLyKhongTrung(a):\n",
    "    \"\"\"\n",
    "    Input:\n",
    "        a = ['A', 'G', 'C', 'A', 'C', 'F', 'F', 'T', 'H']\n",
    "    Output:\n",
    "        s = ['A', 'C', 'F', 'G', 'H', 'T']\n",
    "    \"\"\"\n",
    "    s = set(a)\n",
    "    return sorted(s)\n",
    "# XuLyKhongTrung\n",
    "\n",
    "def DemSoLanXuatHien(a):\n",
    "    \"\"\"\n",
    "    Input:\n",
    "        a = ['A', 'G', 'C', 'A', 'C', 'F', 'F', 'T', 'H']\n",
    "    Output:\n",
    "        dem = {'A': 2, 'G': 1, 'C': 2, 'F': 2, 'T': 1, 'H': 1}\n",
    "    \"\"\"\n",
    "    dem = {}\n",
    "    for x in a:\n",
    "        if x in dem:\n",
    "            dem[x] += 1\n",
    "        else:\n",
    "            dem[x] = 1\n",
    "    return dem\n",
    "# DemSoLanXuatHien\n",
    "\n",
    "# Ví dụ sử dụng:\n",
    "s = input(\"Nhap day ky tu (cach nhau boi khoang trang): \")\n",
    "lst = s.strip().split()\n",
    "print(\"Cac ky tu khong trung nhau va sap tang dan:\", XuLyKhongTrung(lst))\n",
    "print(\"So lan xuat hien cua tung ky tu:\", DemSoLanXuatHien(lst))"
   ]
  },
  {
   "cell_type": "markdown",
   "id": "e31cdbcc-407c-49bc-a6a6-c43216af24ad",
   "metadata": {},
   "source": [
    "# Kết thúc"
   ]
  }
 ],
 "metadata": {
  "kernelspec": {
   "display_name": "Python 3 (ipykernel)",
   "language": "python",
   "name": "python3"
  },
  "language_info": {
   "codemirror_mode": {
    "name": "ipython",
    "version": 3
   },
   "file_extension": ".py",
   "mimetype": "text/x-python",
   "name": "python",
   "nbconvert_exporter": "python",
   "pygments_lexer": "ipython3",
   "version": "3.11.5"
  }
 },
 "nbformat": 4,
 "nbformat_minor": 5
}
